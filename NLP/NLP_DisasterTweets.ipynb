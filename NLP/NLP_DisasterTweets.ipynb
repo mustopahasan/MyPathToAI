{
  "nbformat": 4,
  "nbformat_minor": 0,
  "metadata": {
    "colab": {
      "name": "NLP-DisasterTweets.ipynb",
      "provenance": [],
      "collapsed_sections": []
    },
    "kernelspec": {
      "name": "python3",
      "display_name": "Python 3"
    },
    "accelerator": "GPU"
  },
  "cells": [
    {
      "cell_type": "markdown",
      "metadata": {
        "id": "G1Q2s5BWpSTm",
        "colab_type": "text"
      },
      "source": [
        "# Disaster Tweets Dataset From kaggle Competition "
      ]
    },
    {
      "cell_type": "code",
      "metadata": {
        "id": "I32dCNjXn300",
        "colab_type": "code",
        "colab": {}
      },
      "source": [
        "import numpy as np\n",
        "import pandas as pd\n",
        "import tensorflow as tf"
      ],
      "execution_count": 0,
      "outputs": []
    },
    {
      "cell_type": "code",
      "metadata": {
        "id": "fEjFyGfHoPF2",
        "colab_type": "code",
        "colab": {}
      },
      "source": [
        "# load data set\n",
        "train = pd.read_csv('/content/drive/My Drive/Dataset/NLP/Disaster Tweets/train.csv')\n",
        "test = pd.read_csv('/content/drive/My Drive/Dataset/NLP/Disaster Tweets/test.csv')\n",
        "sample_subm = pd.read_csv('/content/drive/My Drive/Dataset/NLP/Disaster Tweets/sample_submission.csv')"
      ],
      "execution_count": 0,
      "outputs": []
    },
    {
      "cell_type": "code",
      "metadata": {
        "id": "SzRoRgHco0NF",
        "colab_type": "code",
        "outputId": "5e820f07-cbe8-4e47-f727-3e2c56619ff2",
        "colab": {
          "base_uri": "https://localhost:8080/",
          "height": 55
        }
      },
      "source": [
        "print(train.shape)\n",
        "print(test.shape)"
      ],
      "execution_count": 4,
      "outputs": [
        {
          "output_type": "stream",
          "text": [
            "(7613, 5)\n",
            "(3263, 4)\n"
          ],
          "name": "stdout"
        }
      ]
    },
    {
      "cell_type": "code",
      "metadata": {
        "id": "PtCD5LYupR4O",
        "colab_type": "code",
        "outputId": "e818f2a5-1198-44c4-d309-fb711edc0796",
        "colab": {
          "base_uri": "https://localhost:8080/",
          "height": 319
        }
      },
      "source": [
        "train.target.value_counts(normalize=True).plot(kind='bar')\n",
        "print(train.target.value_counts(normalize=True))"
      ],
      "execution_count": 4,
      "outputs": [
        {
          "output_type": "stream",
          "text": [
            "0    0.57034\n",
            "1    0.42966\n",
            "Name: target, dtype: float64\n"
          ],
          "name": "stdout"
        },
        {
          "output_type": "display_data",
          "data": {
            "image/png": "[encoded data removed]",
            "text/plain": [
              "<Figure size 432x288 with 1 Axes>"
            ]
          },
          "metadata": {
            "tags": [],
            "needs_background": "light"
          }
        }
      ]
    },
    {
      "cell_type": "code",
      "metadata": {
        "id": "eLdBsGEdpv7D",
        "colab_type": "code",
        "outputId": "51dde2a8-debd-490a-f2cc-d0b378a3370a",
        "colab": {
          "base_uri": "https://localhost:8080/",
          "height": 138
        }
      },
      "source": [
        "train.head(3)"
      ],
      "execution_count": 5,
      "outputs": [
        {
          "output_type": "execute_result",
          "data": {
            "text/html": [
              "<div>\n",
              "<style scoped>\n",
              "    .dataframe tbody tr th:only-of-type {\n",
              "        vertical-align: middle;\n",
              "    }\n",
              "\n",
              "    .dataframe tbody tr th {\n",
              "        vertical-align: top;\n",
              "    }\n",
              "\n",
              "    .dataframe thead th {\n",
              "        text-align: right;\n",
              "    }\n",
              "</style>\n",
              "<table border=\"1\" class=\"dataframe\">\n",
              "  <thead>\n",
              "    <tr style=\"text-align: right;\">\n",
              "      <th></th>\n",
              "      <th>id</th>\n",
              "      <th>keyword</th>\n",
              "      <th>location</th>\n",
              "      <th>text</th>\n",
              "      <th>target</th>\n",
              "    </tr>\n",
              "  </thead>\n",
              "  <tbody>\n",
              "    <tr>\n",
              "      <th>0</th>\n",
              "      <td>1</td>\n",
              "      <td>NaN</td>\n",
              "      <td>NaN</td>\n",
              "      <td>Our Deeds are the Reason of this #earthquake M...</td>\n",
              "      <td>1</td>\n",
              "    </tr>\n",
              "    <tr>\n",
              "      <th>1</th>\n",
              "      <td>4</td>\n",
              "      <td>NaN</td>\n",
              "      <td>NaN</td>\n",
              "      <td>Forest fire near La Ronge Sask. Canada</td>\n",
              "      <td>1</td>\n",
              "    </tr>\n",
              "    <tr>\n",
              "      <th>2</th>\n",
              "      <td>5</td>\n",
              "      <td>NaN</td>\n",
              "      <td>NaN</td>\n",
              "      <td>All residents asked to 'shelter in place' are ...</td>\n",
              "      <td>1</td>\n",
              "    </tr>\n",
              "  </tbody>\n",
              "</table>\n",
              "</div>"
            ],
            "text/plain": [
              "   id keyword  ...                                               text target\n",
              "0   1     NaN  ...  Our Deeds are the Reason of this #earthquake M...      1\n",
              "1   4     NaN  ...             Forest fire near La Ronge Sask. Canada      1\n",
              "2   5     NaN  ...  All residents asked to 'shelter in place' are ...      1\n",
              "\n",
              "[3 rows x 5 columns]"
            ]
          },
          "metadata": {
            "tags": []
          },
          "execution_count": 5
        }
      ]
    },
    {
      "cell_type": "code",
      "metadata": {
        "id": "WsiMJWsxrDSG",
        "colab_type": "code",
        "outputId": "e8ccab4c-8386-4e13-d2b6-2c0b973209c5",
        "colab": {
          "base_uri": "https://localhost:8080/",
          "height": 189
        }
      },
      "source": [
        "print('True example :\\n', train[train.target==1].text.head(1))\n",
        "print(train.text[0])\n",
        "print('False example :\\n', train[train.target==0].text.head(3))"
      ],
      "execution_count": 6,
      "outputs": [
        {
          "output_type": "stream",
          "text": [
            "True example :\n",
            " 0    Our Deeds are the Reason of this #earthquake M...\n",
            "Name: text, dtype: object\n",
            "Our Deeds are the Reason of this #earthquake May ALLAH Forgive us all\n",
            "False example :\n",
            " 15      What's up man?\n",
            "16       I love fruits\n",
            "17    Summer is lovely\n",
            "Name: text, dtype: object\n"
          ],
          "name": "stdout"
        }
      ]
    },
    {
      "cell_type": "code",
      "metadata": {
        "id": "A5H6kDCerm22",
        "colab_type": "code",
        "colab": {}
      },
      "source": [
        "# we only use text feature\n",
        "train_text = train.text\n",
        "validation = test.text # validationset for submission"
      ],
      "execution_count": 0,
      "outputs": []
    },
    {
      "cell_type": "code",
      "metadata": {
        "id": "QueaMBkjt9Dy",
        "colab_type": "code",
        "colab": {}
      },
      "source": [
        "training = train_text[:7500]\n",
        "testing = train_text[7500:]\n",
        "\n",
        "train_label = np.array(train.target[:7500])\n",
        "test_label = np.array(train.target[7500:])"
      ],
      "execution_count": 0,
      "outputs": []
    },
    {
      "cell_type": "code",
      "metadata": {
        "id": "OEDr9e13uFCM",
        "colab_type": "code",
        "colab": {}
      },
      "source": [
        "from tensorflow.keras.preprocessing.text import Tokenizer\n",
        "from tensorflow.keras.preprocessing.sequence import pad_sequences"
      ],
      "execution_count": 0,
      "outputs": []
    },
    {
      "cell_type": "code",
      "metadata": {
        "id": "KCvX0kS9vgqk",
        "colab_type": "code",
        "colab": {}
      },
      "source": [
        "# Tokenize word on texts\n",
        "vocab_size = 20000\n",
        "#max_length = 30\n",
        "\n",
        "#make token from trining set\n",
        "token = Tokenizer(vocab_size, oov_token='<unknown>')\n",
        "token.fit_on_texts(training)\n",
        "word_index = token.word_index\n",
        "\n",
        "training_seq = token.texts_to_sequences(training)\n",
        "test_seq = token.texts_to_sequences(testing)\n",
        "\n",
        "length = []\n",
        "for i in range(len(training_seq)):\n",
        "  temp = len(training_seq[i])\n",
        "  length.append(temp)\n",
        "max_length = max(length)\n",
        "\n",
        "training_final = pad_sequences(training_seq, maxlen=max_length, padding='post', truncating='post')\n",
        "test_final = pad_sequences(test_seq, maxlen= max_length, padding='post', truncating='post')"
      ],
      "execution_count": 0,
      "outputs": []
    },
    {
      "cell_type": "code",
      "metadata": {
        "id": "v6GCVnxaygEn",
        "colab_type": "code",
        "outputId": "8cf0d09f-394f-4fc9-acc2-535354608a10",
        "colab": {
          "base_uri": "https://localhost:8080/",
          "height": 361
        }
      },
      "source": [
        "model = tf.keras.Sequential([\n",
        "                            tf.keras.layers.Embedding(vocab_size,64, input_length= max_length),\n",
        "                            tf.keras.layers.Flatten(),\n",
        "                            tf.keras.layers.Dense(248, activation='relu'),\n",
        "                            tf.keras.layers.Dense(124,activation='relu'),\n",
        "                            tf.keras.layers.Dense(1, activation='sigmoid')\n",
        "])\n",
        "\n",
        "model.summary()\n",
        "model.compile(loss='binary_crossentropy', optimizer='adam', metrics=['accuracy'])"
      ],
      "execution_count": 18,
      "outputs": [
        {
          "output_type": "stream",
          "text": [
            "Model: \"sequential\"\n",
            "_________________________________________________________________\n",
            "Layer (type)                 Output Shape              Param #   \n",
            "=================================================================\n",
            "embedding (Embedding)        (None, 33, 64)            1280000   \n",
            "_________________________________________________________________\n",
            "flatten (Flatten)            (None, 2112)              0         \n",
            "_________________________________________________________________\n",
            "dense (Dense)                (None, 248)               524024    \n",
            "_________________________________________________________________\n",
            "dense_1 (Dense)              (None, 124)               30876     \n",
            "_________________________________________________________________\n",
            "dense_2 (Dense)              (None, 1)                 125       \n",
            "=================================================================\n",
            "Total params: 1,835,025\n",
            "Trainable params: 1,835,025\n",
            "Non-trainable params: 0\n",
            "_________________________________________________________________\n"
          ],
          "name": "stdout"
        }
      ]
    },
    {
      "cell_type": "code",
      "metadata": {
        "id": "LhKfCwYH1wk1",
        "colab_type": "code",
        "outputId": "4334bbfa-364a-4dbb-f1fa-2b7bb19f7823",
        "colab": {
          "base_uri": "https://localhost:8080/",
          "height": 800
        }
      },
      "source": [
        "import datetime as dt\n",
        "start = dt.datetime.today()\n",
        "\n",
        "history = model.fit(training_final, train_label, epochs=20, validation_data=(test_final,test_label), verbose=1)\n",
        "\n",
        "finish = dt.datetime.today()\n",
        "print('Process time took :', finish-start)"
      ],
      "execution_count": 19,
      "outputs": [
        {
          "output_type": "stream",
          "text": [
            "Epoch 1/20\n",
            "235/235 [==============================] - 4s 19ms/step - loss: 0.5411 - accuracy: 0.7271 - val_loss: 0.2505 - val_accuracy: 0.9027\n",
            "Epoch 2/20\n",
            "235/235 [==============================] - 4s 18ms/step - loss: 0.2174 - accuracy: 0.9221 - val_loss: 0.1967 - val_accuracy: 0.9292\n",
            "Epoch 3/20\n",
            "235/235 [==============================] - 4s 18ms/step - loss: 0.0728 - accuracy: 0.9748 - val_loss: 0.2021 - val_accuracy: 0.9292\n",
            "Epoch 4/20\n",
            "235/235 [==============================] - 4s 18ms/step - loss: 0.0367 - accuracy: 0.9849 - val_loss: 0.2131 - val_accuracy: 0.9292\n",
            "Epoch 5/20\n",
            "235/235 [==============================] - 5s 19ms/step - loss: 0.0221 - accuracy: 0.9901 - val_loss: 0.2409 - val_accuracy: 0.9381\n",
            "Epoch 6/20\n",
            "235/235 [==============================] - 5s 20ms/step - loss: 0.0161 - accuracy: 0.9924 - val_loss: 0.2359 - val_accuracy: 0.9469\n",
            "Epoch 7/20\n",
            "235/235 [==============================] - 5s 21ms/step - loss: 0.0144 - accuracy: 0.9929 - val_loss: 0.3053 - val_accuracy: 0.9381\n",
            "Epoch 8/20\n",
            "235/235 [==============================] - 5s 20ms/step - loss: 0.0118 - accuracy: 0.9940 - val_loss: 0.2621 - val_accuracy: 0.9469\n",
            "Epoch 9/20\n",
            "235/235 [==============================] - 4s 18ms/step - loss: 0.0107 - accuracy: 0.9943 - val_loss: 0.3035 - val_accuracy: 0.9469\n",
            "Epoch 10/20\n",
            "235/235 [==============================] - 5s 20ms/step - loss: 0.0099 - accuracy: 0.9945 - val_loss: 0.3412 - val_accuracy: 0.9469\n",
            "Epoch 11/20\n",
            "235/235 [==============================] - 5s 19ms/step - loss: 0.0093 - accuracy: 0.9948 - val_loss: 0.3202 - val_accuracy: 0.9469\n",
            "Epoch 12/20\n",
            "235/235 [==============================] - 5s 19ms/step - loss: 0.0092 - accuracy: 0.9945 - val_loss: 0.3582 - val_accuracy: 0.9381\n",
            "Epoch 13/20\n",
            "235/235 [==============================] - 5s 19ms/step - loss: 0.0092 - accuracy: 0.9948 - val_loss: 0.3528 - val_accuracy: 0.9381\n",
            "Epoch 14/20\n",
            "235/235 [==============================] - 4s 19ms/step - loss: 0.0090 - accuracy: 0.9949 - val_loss: 0.4022 - val_accuracy: 0.9292\n",
            "Epoch 15/20\n",
            "235/235 [==============================] - 4s 19ms/step - loss: 0.0096 - accuracy: 0.9947 - val_loss: 0.3810 - val_accuracy: 0.9292\n",
            "Epoch 16/20\n",
            "235/235 [==============================] - 4s 18ms/step - loss: 0.0088 - accuracy: 0.9951 - val_loss: 0.4204 - val_accuracy: 0.9292\n",
            "Epoch 17/20\n",
            "235/235 [==============================] - 4s 18ms/step - loss: 0.0087 - accuracy: 0.9952 - val_loss: 0.4285 - val_accuracy: 0.9381\n",
            "Epoch 18/20\n",
            "235/235 [==============================] - 4s 18ms/step - loss: 0.0084 - accuracy: 0.9951 - val_loss: 0.4222 - val_accuracy: 0.9381\n",
            "Epoch 19/20\n",
            "235/235 [==============================] - 4s 18ms/step - loss: 0.0085 - accuracy: 0.9949 - val_loss: 0.4278 - val_accuracy: 0.9381\n",
            "Epoch 20/20\n",
            "235/235 [==============================] - 4s 18ms/step - loss: 0.0083 - accuracy: 0.9952 - val_loss: 0.4298 - val_accuracy: 0.9381\n",
            "Process time took : 0:01:31.593950\n"
          ],
          "name": "stdout"
        }
      ]
    },
    {
      "cell_type": "code",
      "metadata": {
        "id": "MY1RgYrF3_Zq",
        "colab_type": "code",
        "outputId": "4ccc1ffb-7614-43a7-f249-93109b849e0d",
        "colab": {
          "base_uri": "https://localhost:8080/",
          "height": 284
        }
      },
      "source": [
        "import matplotlib.pyplot as plt\n",
        "\n",
        "plt.plot(history.history['loss'])\n",
        "plt.plot(history.history['val_loss'])"
      ],
      "execution_count": 20,
      "outputs": [
        {
          "output_type": "execute_result",
          "data": {
            "text/plain": [
              "[<matplotlib.lines.Line2D at 0x7fcfe4046898>]"
            ]
          },
          "metadata": {
            "tags": []
          },
          "execution_count": 20
        },
        {
          "output_type": "display_data",
          "data": {
            "image/png": "[encoded data removed]",
            "text/plain": [
              "<Figure size 432x288 with 1 Axes>"
            ]
          },
          "metadata": {
            "tags": [],
            "needs_background": "light"
          }
        }
      ]
    },
    {
      "cell_type": "code",
      "metadata": {
        "id": "LUoB3-EkppRm",
        "colab_type": "code",
        "outputId": "7bc353f1-0557-420c-86f6-9dedd42655d0",
        "colab": {
          "base_uri": "https://localhost:8080/",
          "height": 284
        }
      },
      "source": [
        "plt.plot(history.history['accuracy'])\n",
        "plt.plot(history.history['val_accuracy'])"
      ],
      "execution_count": 21,
      "outputs": [
        {
          "output_type": "execute_result",
          "data": {
            "text/plain": [
              "[<matplotlib.lines.Line2D at 0x7fcfe4365ac8>]"
            ]
          },
          "metadata": {
            "tags": []
          },
          "execution_count": 21
        },
        {
          "output_type": "display_data",
          "data": {
            "image/png": "[encoded data removed]",
            "text/plain": [
              "<Figure size 432x288 with 1 Axes>"
            ]
          },
          "metadata": {
            "tags": [],
            "needs_background": "light"
          }
        }
      ]
    },
    {
      "cell_type": "code",
      "metadata": {
        "id": "2Dx0OzDtjsCR",
        "colab_type": "code",
        "colab": {
          "base_uri": "https://localhost:8080/",
          "height": 55
        },
        "outputId": "e6c720fd-607f-4842-bcfe-177098318e9b"
      },
      "source": [
        "model.evaluate(training_final, train_label)"
      ],
      "execution_count": 22,
      "outputs": [
        {
          "output_type": "stream",
          "text": [
            "235/235 [==============================] - 1s 3ms/step - loss: 0.0079 - accuracy: 0.9953\n"
          ],
          "name": "stdout"
        },
        {
          "output_type": "execute_result",
          "data": {
            "text/plain": [
              "[0.00791651289910078, 0.9953333139419556]"
            ]
          },
          "metadata": {
            "tags": []
          },
          "execution_count": 22
        }
      ]
    },
    {
      "cell_type": "code",
      "metadata": {
        "id": "MgaB6vVLj1_X",
        "colab_type": "code",
        "colab": {
          "base_uri": "https://localhost:8080/",
          "height": 55
        },
        "outputId": "bde43c13-6828-4445-8a1e-dbe6fa8deafb"
      },
      "source": [
        "model.evaluate(test_final,test_label)"
      ],
      "execution_count": 23,
      "outputs": [
        {
          "output_type": "stream",
          "text": [
            "4/4 [==============================] - 0s 4ms/step - loss: 0.4298 - accuracy: 0.9381\n"
          ],
          "name": "stdout"
        },
        {
          "output_type": "execute_result",
          "data": {
            "text/plain": [
              "[0.4297542870044708, 0.9380530714988708]"
            ]
          },
          "metadata": {
            "tags": []
          },
          "execution_count": 23
        }
      ]
    },
    {
      "cell_type": "markdown",
      "metadata": {
        "id": "ZRbzcrkVpr_f",
        "colab_type": "text"
      },
      "source": [
        "> it seems overfitting"
      ]
    },
    {
      "cell_type": "code",
      "metadata": {
        "id": "srqN5Wk1uFpd",
        "colab_type": "code",
        "colab": {}
      },
      "source": [
        "reverse_word_index = dict([(value, key) for (key, value) in word_index.items()])"
      ],
      "execution_count": 0,
      "outputs": []
    },
    {
      "cell_type": "code",
      "metadata": {
        "id": "tuvkGX-5uKNU",
        "colab_type": "code",
        "outputId": "f4ce7c56-90e4-4292-edee-60c4408bf97b",
        "colab": {
          "base_uri": "https://localhost:8080/",
          "height": 36
        }
      },
      "source": [
        "e = model.layers[0]\n",
        "weights = e.get_weights()[0]\n",
        "print(weights.shape)"
      ],
      "execution_count": 0,
      "outputs": [
        {
          "output_type": "stream",
          "text": [
            "(10000, 32)\n"
          ],
          "name": "stdout"
        }
      ]
    },
    {
      "cell_type": "code",
      "metadata": {
        "id": "FJm_Gtn3p84a",
        "colab_type": "code",
        "colab": {}
      },
      "source": [
        "import io\n",
        "vector = io.open(\"vecs.tsv\", 'w', encoding= 'utf-8')\n",
        "meta = io.open('meta.tsv', 'w',encoding='utf-8')\n",
        "for word_num in range (1,vocab_size):\n",
        "  word = reverse_word_index[word_num]\n",
        "  embeddings = weights[word_num]\n",
        "  meta.write(word + '\\n')\n",
        "  vector.write('\\t'.join([str(x) for x in embeddings])+ '\\n')\n",
        "\n",
        "vector.close()\n",
        "meta.close()"
      ],
      "execution_count": 0,
      "outputs": []
    },
    {
      "cell_type": "code",
      "metadata": {
        "id": "mRYjA6FWuQFU",
        "colab_type": "code",
        "colab": {}
      },
      "source": [
        "try:\n",
        "  from google.colab import files\n",
        "except ImportError:\n",
        "  pass\n",
        "else:\n",
        "  files.download('vecs.tsv')\n",
        "  files.download('meta.tsv')"
      ],
      "execution_count": 0,
      "outputs": []
    },
    {
      "cell_type": "markdown",
      "metadata": {
        "id": "_ycfzWqGhucd",
        "colab_type": "text"
      },
      "source": [
        "## + LSTM Layer"
      ]
    },
    {
      "cell_type": "code",
      "metadata": {
        "id": "ELFQkwtSvcWP",
        "colab_type": "code",
        "colab": {
          "base_uri": "https://localhost:8080/",
          "height": 361
        },
        "outputId": "07fe10cf-bee3-4df0-c8f6-73f9be419ea8"
      },
      "source": [
        "tf.keras.backend.clear_session()\n",
        "\n",
        "model = tf.keras.Sequential([\n",
        "                             tf.keras.layers.Embedding(vocab_size, 64, input_length= max_length),\n",
        "                             tf.keras.layers.Bidirectional(tf.keras.layers.LSTM(64,return_sequences=True)),\n",
        "                             tf.keras.layers.Bidirectional(tf.keras.layers.LSTM(32)),\n",
        "                             tf.keras.layers.Dense(124, activation='relu'),\n",
        "                             tf.keras.layers.Dense(1,activation='sigmoid')\n",
        "])\n",
        "model.summary()\n",
        "\n",
        "model.compile(loss='binary_crossentropy', optimizer='adam', metrics=['accuracy'])"
      ],
      "execution_count": 73,
      "outputs": [
        {
          "output_type": "stream",
          "text": [
            "Model: \"sequential\"\n",
            "_________________________________________________________________\n",
            "Layer (type)                 Output Shape              Param #   \n",
            "=================================================================\n",
            "embedding (Embedding)        (None, 30, 64)            640000    \n",
            "_________________________________________________________________\n",
            "bidirectional (Bidirectional (None, 30, 128)           66048     \n",
            "_________________________________________________________________\n",
            "bidirectional_1 (Bidirection (None, 64)                41216     \n",
            "_________________________________________________________________\n",
            "dense (Dense)                (None, 124)               8060      \n",
            "_________________________________________________________________\n",
            "dense_1 (Dense)              (None, 1)                 125       \n",
            "=================================================================\n",
            "Total params: 755,449\n",
            "Trainable params: 755,449\n",
            "Non-trainable params: 0\n",
            "_________________________________________________________________\n"
          ],
          "name": "stdout"
        }
      ]
    },
    {
      "cell_type": "code",
      "metadata": {
        "id": "kYKagqYIkTjt",
        "colab_type": "code",
        "colab": {
          "base_uri": "https://localhost:8080/",
          "height": 36
        },
        "outputId": "93a2b872-4a25-47de-f49f-32f5172cdf33"
      },
      "source": [
        "start = dt.datetime.today()\n",
        "\n",
        "model.fit(training_final, train_label, epochs=20, validation_data=(test_final,test_label), verbose=0)\n",
        "\n",
        "finish = dt.datetime.today()\n",
        "\n",
        "print('Process time took :', finish- start)"
      ],
      "execution_count": 74,
      "outputs": [
        {
          "output_type": "stream",
          "text": [
            "Process time took : 0:02:42.870407\n"
          ],
          "name": "stdout"
        }
      ]
    },
    {
      "cell_type": "code",
      "metadata": {
        "id": "sIxj_bJ5mfJc",
        "colab_type": "code",
        "colab": {
          "base_uri": "https://localhost:8080/",
          "height": 284
        },
        "outputId": "a4a00bb7-4877-4899-e6cd-81d5b3632cc7"
      },
      "source": [
        "plt.plot(history.history['accuracy'])\n",
        "plt.plot(history.history['val_accuracy'])"
      ],
      "execution_count": 64,
      "outputs": [
        {
          "output_type": "execute_result",
          "data": {
            "text/plain": [
              "[<matplotlib.lines.Line2D at 0x7ff0d7c073c8>]"
            ]
          },
          "metadata": {
            "tags": []
          },
          "execution_count": 64
        },
        {
          "output_type": "display_data",
          "data": {
            "image/png": "[encoded data removed]",
            "text/plain": [
              "<Figure size 432x288 with 1 Axes>"
            ]
          },
          "metadata": {
            "tags": [],
            "needs_background": "light"
          }
        }
      ]
    },
    {
      "cell_type": "code",
      "metadata": {
        "id": "vIZageq_mp3c",
        "colab_type": "code",
        "colab": {
          "base_uri": "https://localhost:8080/",
          "height": 55
        },
        "outputId": "46b28cfb-68e7-4cd4-da18-bbe958890fa2"
      },
      "source": [
        "model.evaluate(test_final,test_label)"
      ],
      "execution_count": 75,
      "outputs": [
        {
          "output_type": "stream",
          "text": [
            "4/4 [==============================] - 0s 10ms/step - loss: 0.6551 - accuracy: 0.9381\n"
          ],
          "name": "stdout"
        },
        {
          "output_type": "execute_result",
          "data": {
            "text/plain": [
              "[0.6551049947738647, 0.9380530714988708]"
            ]
          },
          "metadata": {
            "tags": []
          },
          "execution_count": 75
        }
      ]
    },
    {
      "cell_type": "markdown",
      "metadata": {
        "id": "qODxnFD1nJd_",
        "colab_type": "text"
      },
      "source": [
        "## + Convolution layer"
      ]
    },
    {
      "cell_type": "code",
      "metadata": {
        "id": "a2cPLCADm0Jv",
        "colab_type": "code",
        "colab": {
          "base_uri": "https://localhost:8080/",
          "height": 361
        },
        "outputId": "8850fd7b-c5e3-41e1-97d5-963d5c009352"
      },
      "source": [
        "tf.keras.backend.clear_session()\n",
        "\n",
        "model = tf.keras.Sequential([\n",
        "                             tf.keras.layers.Embedding(vocab_size, 32, input_length= max_length),\n",
        "                             tf.keras.layers.Conv1D(128,5, activation='relu'),\n",
        "                             tf.keras.layers.Flatten(),\n",
        "                             tf.keras.layers.Dense(256, activation='relu'),\n",
        "                             tf.keras.layers.Dense(1, activation='sigmoid')\n",
        "                            \n",
        "])\n",
        "\n",
        "model.summmary()"
      ],
      "execution_count": 159,
      "outputs": [
        {
          "output_type": "stream",
          "text": [
            "Model: \"sequential\"\n",
            "_________________________________________________________________\n",
            "Layer (type)                 Output Shape              Param #   \n",
            "=================================================================\n",
            "embedding (Embedding)        (None, 30, 64)            640000    \n",
            "_________________________________________________________________\n",
            "bidirectional (Bidirectional (None, 30, 128)           66048     \n",
            "_________________________________________________________________\n",
            "bidirectional_1 (Bidirection (None, 64)                41216     \n",
            "_________________________________________________________________\n",
            "dense (Dense)                (None, 124)               8060      \n",
            "_________________________________________________________________\n",
            "dense_1 (Dense)              (None, 1)                 125       \n",
            "=================================================================\n",
            "Total params: 755,449\n",
            "Trainable params: 755,449\n",
            "Non-trainable params: 0\n",
            "_________________________________________________________________\n"
          ],
          "name": "stdout"
        }
      ]
    },
    {
      "cell_type": "code",
      "metadata": {
        "id": "x9inyco3oUjB",
        "colab_type": "code",
        "colab": {}
      },
      "source": [
        "model.fit(training_final, train_label, epochs=20, validation_data=(test_final,test_label))"
      ],
      "execution_count": 0,
      "outputs": []
    },
    {
      "cell_type": "code",
      "metadata": {
        "id": "ueDIjMU1omnm",
        "colab_type": "code",
        "colab": {
          "base_uri": "https://localhost:8080/",
          "height": 55
        },
        "outputId": "64b6e7a9-140f-4d53-fcca-0444022b131b"
      },
      "source": [
        "model.evaluate(test_final,test_label)"
      ],
      "execution_count": 68,
      "outputs": [
        {
          "output_type": "stream",
          "text": [
            "4/4 [==============================] - 0s 3ms/step - loss: 0.6155 - accuracy: 0.9204\n"
          ],
          "name": "stdout"
        },
        {
          "output_type": "execute_result",
          "data": {
            "text/plain": [
              "[0.6155024766921997, 0.9203540086746216]"
            ]
          },
          "metadata": {
            "tags": []
          },
          "execution_count": 68
        }
      ]
    },
    {
      "cell_type": "markdown",
      "metadata": {
        "id": "qFjPWlVcDGdf",
        "colab_type": "text"
      },
      "source": [
        "## Final Model"
      ]
    },
    {
      "cell_type": "code",
      "metadata": {
        "id": "WABFNIQpIANj",
        "colab_type": "code",
        "colab": {}
      },
      "source": [
        "token.fit_on_texts(train.text)\n",
        "\n",
        "train_seq = token.texts_to_sequences(train.text)\n",
        "train_padded = pad_sequences(train_seq, maxlen=max_length, padding='post', truncating='post')\n",
        "\n",
        "label = np.array(train.target)"
      ],
      "execution_count": 0,
      "outputs": []
    },
    {
      "cell_type": "code",
      "metadata": {
        "id": "nuCf3chPDMqC",
        "colab_type": "code",
        "colab": {
          "base_uri": "https://localhost:8080/",
          "height": 361
        },
        "outputId": "0f567b86-c73d-4ef2-a9f6-ed2d27e424f5"
      },
      "source": [
        "tf.keras.backend.clear_session()\n",
        "\n",
        "model = tf.keras.Sequential([\n",
        "                             tf.keras.layers.Embedding(vocab_size, 64, input_length= max_length),\n",
        "                             tf.keras.layers.Bidirectional(tf.keras.layers.LSTM(64,return_sequences=True)),\n",
        "                             tf.keras.layers.Bidirectional(tf.keras.layers.LSTM(32)),\n",
        "                             tf.keras.layers.Dense(124, activation='relu'),\n",
        "                             tf.keras.layers.Dense(1,activation='sigmoid')\n",
        "])\n",
        "model.summary()\n",
        "\n",
        "model.compile(loss='binary_crossentropy', optimizer='adam', metrics=['accuracy'])"
      ],
      "execution_count": 172,
      "outputs": [
        {
          "output_type": "stream",
          "text": [
            "Model: \"sequential\"\n",
            "_________________________________________________________________\n",
            "Layer (type)                 Output Shape              Param #   \n",
            "=================================================================\n",
            "embedding (Embedding)        (None, 30, 64)            1280000   \n",
            "_________________________________________________________________\n",
            "bidirectional (Bidirectional (None, 30, 128)           66048     \n",
            "_________________________________________________________________\n",
            "bidirectional_1 (Bidirection (None, 64)                41216     \n",
            "_________________________________________________________________\n",
            "dense (Dense)                (None, 124)               8060      \n",
            "_________________________________________________________________\n",
            "dense_1 (Dense)              (None, 1)                 125       \n",
            "=================================================================\n",
            "Total params: 1,395,449\n",
            "Trainable params: 1,395,449\n",
            "Non-trainable params: 0\n",
            "_________________________________________________________________\n"
          ],
          "name": "stdout"
        }
      ]
    },
    {
      "cell_type": "code",
      "metadata": {
        "id": "YqvOzw33FJn1",
        "colab_type": "code",
        "colab": {
          "base_uri": "https://localhost:8080/",
          "height": 399
        },
        "outputId": "c3d15b93-8fe3-45a8-debc-3e727f74a927"
      },
      "source": [
        "history = model.fit(train_padded,label, epochs=10)"
      ],
      "execution_count": 173,
      "outputs": [
        {
          "output_type": "stream",
          "text": [
            "Epoch 1/10\n",
            "238/238 [==============================] - 10s 42ms/step - loss: 0.5130 - accuracy: 0.7482\n",
            "Epoch 2/10\n",
            "238/238 [==============================] - 10s 41ms/step - loss: 0.2877 - accuracy: 0.8870\n",
            "Epoch 3/10\n",
            "238/238 [==============================] - 10s 41ms/step - loss: 0.1538 - accuracy: 0.9448\n",
            "Epoch 4/10\n",
            "238/238 [==============================] - 10s 41ms/step - loss: 0.0892 - accuracy: 0.9710\n",
            "Epoch 5/10\n",
            "238/238 [==============================] - 10s 41ms/step - loss: 0.0513 - accuracy: 0.9828\n",
            "Epoch 6/10\n",
            "238/238 [==============================] - 10s 41ms/step - loss: 0.0383 - accuracy: 0.9856\n",
            "Epoch 7/10\n",
            "238/238 [==============================] - 10s 41ms/step - loss: 0.0241 - accuracy: 0.9899\n",
            "Epoch 8/10\n",
            "238/238 [==============================] - 10s 41ms/step - loss: 0.0183 - accuracy: 0.9916\n",
            "Epoch 9/10\n",
            "238/238 [==============================] - 10s 40ms/step - loss: 0.0198 - accuracy: 0.9909\n",
            "Epoch 10/10\n",
            "238/238 [==============================] - 10s 41ms/step - loss: 0.0205 - accuracy: 0.9907\n"
          ],
          "name": "stdout"
        }
      ]
    },
    {
      "cell_type": "markdown",
      "metadata": {
        "id": "xaCKghDJr7Uj",
        "colab_type": "text"
      },
      "source": [
        "## Prediction"
      ]
    },
    {
      "cell_type": "code",
      "metadata": {
        "id": "sPrGR1jp6C1G",
        "colab_type": "code",
        "colab": {
          "base_uri": "https://localhost:8080/",
          "height": 198
        },
        "outputId": "44335eab-6d10-4e5b-c334-50023afb0b2c"
      },
      "source": [
        "test.head()"
      ],
      "execution_count": 107,
      "outputs": [
        {
          "output_type": "execute_result",
          "data": {
            "text/html": [
              "<div>\n",
              "<style scoped>\n",
              "    .dataframe tbody tr th:only-of-type {\n",
              "        vertical-align: middle;\n",
              "    }\n",
              "\n",
              "    .dataframe tbody tr th {\n",
              "        vertical-align: top;\n",
              "    }\n",
              "\n",
              "    .dataframe thead th {\n",
              "        text-align: right;\n",
              "    }\n",
              "</style>\n",
              "<table border=\"1\" class=\"dataframe\">\n",
              "  <thead>\n",
              "    <tr style=\"text-align: right;\">\n",
              "      <th></th>\n",
              "      <th>id</th>\n",
              "      <th>keyword</th>\n",
              "      <th>location</th>\n",
              "      <th>text</th>\n",
              "    </tr>\n",
              "  </thead>\n",
              "  <tbody>\n",
              "    <tr>\n",
              "      <th>0</th>\n",
              "      <td>0</td>\n",
              "      <td>NaN</td>\n",
              "      <td>NaN</td>\n",
              "      <td>Just happened a terrible car crash</td>\n",
              "    </tr>\n",
              "    <tr>\n",
              "      <th>1</th>\n",
              "      <td>2</td>\n",
              "      <td>NaN</td>\n",
              "      <td>NaN</td>\n",
              "      <td>Heard about #earthquake is different cities, s...</td>\n",
              "    </tr>\n",
              "    <tr>\n",
              "      <th>2</th>\n",
              "      <td>3</td>\n",
              "      <td>NaN</td>\n",
              "      <td>NaN</td>\n",
              "      <td>there is a forest fire at spot pond, geese are...</td>\n",
              "    </tr>\n",
              "    <tr>\n",
              "      <th>3</th>\n",
              "      <td>9</td>\n",
              "      <td>NaN</td>\n",
              "      <td>NaN</td>\n",
              "      <td>Apocalypse lighting. #Spokane #wildfires</td>\n",
              "    </tr>\n",
              "    <tr>\n",
              "      <th>4</th>\n",
              "      <td>11</td>\n",
              "      <td>NaN</td>\n",
              "      <td>NaN</td>\n",
              "      <td>Typhoon Soudelor kills 28 in China and Taiwan</td>\n",
              "    </tr>\n",
              "  </tbody>\n",
              "</table>\n",
              "</div>"
            ],
            "text/plain": [
              "   id keyword location                                               text\n",
              "0   0     NaN      NaN                 Just happened a terrible car crash\n",
              "1   2     NaN      NaN  Heard about #earthquake is different cities, s...\n",
              "2   3     NaN      NaN  there is a forest fire at spot pond, geese are...\n",
              "3   9     NaN      NaN           Apocalypse lighting. #Spokane #wildfires\n",
              "4  11     NaN      NaN      Typhoon Soudelor kills 28 in China and Taiwan"
            ]
          },
          "metadata": {
            "tags": []
          },
          "execution_count": 107
        }
      ]
    },
    {
      "cell_type": "code",
      "metadata": {
        "id": "WIKMBkYF6cfi",
        "colab_type": "code",
        "colab": {}
      },
      "source": [
        "sequences = token.texts_to_sequences(test.text)"
      ],
      "execution_count": 0,
      "outputs": []
    },
    {
      "cell_type": "code",
      "metadata": {
        "id": "SP2i7aS27GZX",
        "colab_type": "code",
        "colab": {}
      },
      "source": [
        "padded_seq = pad_sequences(sequences, maxlen=max_length, padding='post', truncating='post')"
      ],
      "execution_count": 0,
      "outputs": []
    },
    {
      "cell_type": "code",
      "metadata": {
        "id": "JM_IRqYH7ama",
        "colab_type": "code",
        "colab": {}
      },
      "source": [
        "prediction = np.round(model.predict(padded_seq)).astype(int)"
      ],
      "execution_count": 0,
      "outputs": []
    },
    {
      "cell_type": "code",
      "metadata": {
        "id": "G77gFVBx-FLF",
        "colab_type": "code",
        "colab": {}
      },
      "source": [
        "prediction = prediction.reshape(prediction.shape[0])"
      ],
      "execution_count": 0,
      "outputs": []
    },
    {
      "cell_type": "code",
      "metadata": {
        "id": "jZRmU7VF7uMX",
        "colab_type": "code",
        "colab": {}
      },
      "source": [
        "final = pd.DataFrame({'id': test.id, 'target': prediction})"
      ],
      "execution_count": 0,
      "outputs": []
    },
    {
      "cell_type": "code",
      "metadata": {
        "id": "SIVtcPEL-rwu",
        "colab_type": "code",
        "colab": {
          "base_uri": "https://localhost:8080/",
          "height": 198
        },
        "outputId": "b5368955-12a6-4c74-dfaa-0f6d0ceeb3b6"
      },
      "source": [
        "final.head()"
      ],
      "execution_count": 177,
      "outputs": [
        {
          "output_type": "execute_result",
          "data": {
            "text/html": [
              "<div>\n",
              "<style scoped>\n",
              "    .dataframe tbody tr th:only-of-type {\n",
              "        vertical-align: middle;\n",
              "    }\n",
              "\n",
              "    .dataframe tbody tr th {\n",
              "        vertical-align: top;\n",
              "    }\n",
              "\n",
              "    .dataframe thead th {\n",
              "        text-align: right;\n",
              "    }\n",
              "</style>\n",
              "<table border=\"1\" class=\"dataframe\">\n",
              "  <thead>\n",
              "    <tr style=\"text-align: right;\">\n",
              "      <th></th>\n",
              "      <th>id</th>\n",
              "      <th>target</th>\n",
              "    </tr>\n",
              "  </thead>\n",
              "  <tbody>\n",
              "    <tr>\n",
              "      <th>0</th>\n",
              "      <td>0</td>\n",
              "      <td>0</td>\n",
              "    </tr>\n",
              "    <tr>\n",
              "      <th>1</th>\n",
              "      <td>2</td>\n",
              "      <td>0</td>\n",
              "    </tr>\n",
              "    <tr>\n",
              "      <th>2</th>\n",
              "      <td>3</td>\n",
              "      <td>1</td>\n",
              "    </tr>\n",
              "    <tr>\n",
              "      <th>3</th>\n",
              "      <td>9</td>\n",
              "      <td>0</td>\n",
              "    </tr>\n",
              "    <tr>\n",
              "      <th>4</th>\n",
              "      <td>11</td>\n",
              "      <td>0</td>\n",
              "    </tr>\n",
              "  </tbody>\n",
              "</table>\n",
              "</div>"
            ],
            "text/plain": [
              "   id  target\n",
              "0   0       0\n",
              "1   2       0\n",
              "2   3       1\n",
              "3   9       0\n",
              "4  11       0"
            ]
          },
          "metadata": {
            "tags": []
          },
          "execution_count": 177
        }
      ]
    },
    {
      "cell_type": "code",
      "metadata": {
        "id": "MFzfd2V__l5R",
        "colab_type": "code",
        "colab": {
          "base_uri": "https://localhost:8080/",
          "height": 198
        },
        "outputId": "b877392d-16e1-4261-c340-74b369a11210"
      },
      "source": [
        "sample_subm.head()"
      ],
      "execution_count": 129,
      "outputs": [
        {
          "output_type": "execute_result",
          "data": {
            "text/html": [
              "<div>\n",
              "<style scoped>\n",
              "    .dataframe tbody tr th:only-of-type {\n",
              "        vertical-align: middle;\n",
              "    }\n",
              "\n",
              "    .dataframe tbody tr th {\n",
              "        vertical-align: top;\n",
              "    }\n",
              "\n",
              "    .dataframe thead th {\n",
              "        text-align: right;\n",
              "    }\n",
              "</style>\n",
              "<table border=\"1\" class=\"dataframe\">\n",
              "  <thead>\n",
              "    <tr style=\"text-align: right;\">\n",
              "      <th></th>\n",
              "      <th>id</th>\n",
              "      <th>target</th>\n",
              "    </tr>\n",
              "  </thead>\n",
              "  <tbody>\n",
              "    <tr>\n",
              "      <th>0</th>\n",
              "      <td>0</td>\n",
              "      <td>0</td>\n",
              "    </tr>\n",
              "    <tr>\n",
              "      <th>1</th>\n",
              "      <td>2</td>\n",
              "      <td>0</td>\n",
              "    </tr>\n",
              "    <tr>\n",
              "      <th>2</th>\n",
              "      <td>3</td>\n",
              "      <td>0</td>\n",
              "    </tr>\n",
              "    <tr>\n",
              "      <th>3</th>\n",
              "      <td>9</td>\n",
              "      <td>0</td>\n",
              "    </tr>\n",
              "    <tr>\n",
              "      <th>4</th>\n",
              "      <td>11</td>\n",
              "      <td>0</td>\n",
              "    </tr>\n",
              "  </tbody>\n",
              "</table>\n",
              "</div>"
            ],
            "text/plain": [
              "   id  target\n",
              "0   0       0\n",
              "1   2       0\n",
              "2   3       0\n",
              "3   9       0\n",
              "4  11       0"
            ]
          },
          "metadata": {
            "tags": []
          },
          "execution_count": 129
        }
      ]
    },
    {
      "cell_type": "code",
      "metadata": {
        "id": "3QQvygij-w6-",
        "colab_type": "code",
        "colab": {}
      },
      "source": [
        "final.to_csv('submission2.csv', index=False)"
      ],
      "execution_count": 0,
      "outputs": []
    },
    {
      "cell_type": "code",
      "metadata": {
        "id": "4tg9XPzR_GNz",
        "colab_type": "code",
        "colab": {}
      },
      "source": [
        "try:\n",
        "  from google.colab import files\n",
        "except ImportError:\n",
        "  pass\n",
        "else:\n",
        "  files.download('submission2.csv')"
      ],
      "execution_count": 0,
      "outputs": []
    }
  ]
}