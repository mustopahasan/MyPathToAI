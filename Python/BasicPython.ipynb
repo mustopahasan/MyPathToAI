{
 "cells": [
  {
   "cell_type": "markdown",
   "metadata": {},
   "source": [
    "# Basic Overview of Python"
   ]
  },
  {
   "cell_type": "markdown",
   "metadata": {},
   "source": [
    "## Funtion"
   ]
  },
  {
   "cell_type": "markdown",
   "metadata": {},
   "source": [
    "> Python Fuction"
   ]
  },
  {
   "cell_type": "code",
   "execution_count": 123,
   "metadata": {},
   "outputs": [],
   "source": [
    "# funtion with one variable\n",
    "def factorial(x):\n",
    "    temp = 1\n",
    "    for i in range(x):\n",
    "        temp = temp*(i+1)\n",
    "    return temp"
   ]
  },
  {
   "cell_type": "code",
   "execution_count": 124,
   "metadata": {},
   "outputs": [
    {
     "data": {
      "text/plain": [
       "120"
      ]
     },
     "execution_count": 124,
     "metadata": {},
     "output_type": "execute_result"
    }
   ],
   "source": [
    "# recall the funtion\n",
    "factorial(5)"
   ]
  },
  {
   "cell_type": "code",
   "execution_count": 125,
   "metadata": {},
   "outputs": [
    {
     "data": {
      "text/plain": [
       "[1, 2, 6, 24, 120]"
      ]
     },
     "execution_count": 125,
     "metadata": {},
     "output_type": "execute_result"
    }
   ],
   "source": [
    "list(map(factorial,[1,2,3,4,5])) # use funtion to each element of list"
   ]
  },
  {
   "cell_type": "code",
   "execution_count": 126,
   "metadata": {},
   "outputs": [],
   "source": [
    "# function with 2 or more variables\n",
    "def volume(x,y,z):\n",
    "    return x*y*z"
   ]
  },
  {
   "cell_type": "code",
   "execution_count": 127,
   "metadata": {},
   "outputs": [
    {
     "data": {
      "text/plain": [
       "24"
      ]
     },
     "execution_count": 127,
     "metadata": {},
     "output_type": "execute_result"
    }
   ],
   "source": [
    "volume(2,3,4)"
   ]
  },
  {
   "cell_type": "code",
   "execution_count": 128,
   "metadata": {},
   "outputs": [],
   "source": [
    "# funtion with 2 or more output\n",
    "def circle(radius):\n",
    "    circum = 2*3.1415*radius\n",
    "    area = 3.1415*radius**2\n",
    "    return circum,area"
   ]
  },
  {
   "cell_type": "code",
   "execution_count": 129,
   "metadata": {},
   "outputs": [
    {
     "name": "stdout",
     "output_type": "stream",
     "text": [
      "31.415000000000003\n",
      "78.53750000000001\n"
     ]
    }
   ],
   "source": [
    "circumference,area = circle(5)\n",
    "\n",
    "print(circumference)\n",
    "print(area)"
   ]
  },
  {
   "cell_type": "code",
   "execution_count": 130,
   "metadata": {},
   "outputs": [],
   "source": [
    "# function with optiolnal variable\n",
    "def addition(a,b,c=None):\n",
    "    if c==None:\n",
    "        temp = a+b\n",
    "    else:\n",
    "        temp = a+b+c\n",
    "    return temp"
   ]
  },
  {
   "cell_type": "code",
   "execution_count": 131,
   "metadata": {},
   "outputs": [
    {
     "name": "stdout",
     "output_type": "stream",
     "text": [
      "6\n",
      "3\n"
     ]
    }
   ],
   "source": [
    "print(addition(1,2,3))\n",
    "print(addition(1,2))"
   ]
  },
  {
   "cell_type": "code",
   "execution_count": 132,
   "metadata": {},
   "outputs": [
    {
     "name": "stdout",
     "output_type": "stream",
     "text": [
      "2\n",
      "2\n"
     ]
    }
   ],
   "source": [
    "# Use lambda funtion : simple funtion with single expression\n",
    "area = lambda a,b : a*b\n",
    "print(area(1,2))\n",
    "\n",
    "# optional variable with lambda\n",
    "area2 = lambda a,b,c : a*b\n",
    "print(area2(1,2,3))"
   ]
  },
  {
   "cell_type": "markdown",
   "metadata": {},
   "source": [
    "## List"
   ]
  },
  {
   "cell_type": "code",
   "execution_count": 133,
   "metadata": {},
   "outputs": [
    {
     "name": "stdout",
     "output_type": "stream",
     "text": [
      "[0, 1, 2, 3, 4, 5]\n",
      "<class 'list'>\n"
     ]
    }
   ],
   "source": [
    "A = [0, 1, 2, 3, 4, 5]\n",
    "print(A)\n",
    "print(type(A))"
   ]
  },
  {
   "cell_type": "code",
   "execution_count": 134,
   "metadata": {},
   "outputs": [
    {
     "name": "stdout",
     "output_type": "stream",
     "text": [
      "[0, 1, 2, 3, 4, 5]\n",
      "<class 'list'>\n"
     ]
    }
   ],
   "source": [
    "B = [i for i in range(6)]\n",
    "print(B)\n",
    "print(type(B))"
   ]
  },
  {
   "cell_type": "code",
   "execution_count": 135,
   "metadata": {},
   "outputs": [
    {
     "name": "stdout",
     "output_type": "stream",
     "text": [
      "[0, 1, 2, 3, 4, 5]\n",
      "<class 'list'>\n"
     ]
    }
   ],
   "source": [
    "C = []\n",
    "for i in range(6):\n",
    "    C.append(i)\n",
    "print(C)\n",
    "print(type(C))"
   ]
  },
  {
   "cell_type": "code",
   "execution_count": 136,
   "metadata": {},
   "outputs": [
    {
     "name": "stdout",
     "output_type": "stream",
     "text": [
      "3rd elemen on list A :  3\n",
      "Last element on list A :  5\n",
      "first to 4th element on list A :  [0, 1, 2, 3, 4]\n",
      "last 3 element of list A : [3, 4, 5]\n"
     ]
    }
   ],
   "source": [
    "# Access list element and slicing\n",
    "print(\"3rd elemen on list A : \",A[3]) # list index start from 0\n",
    "print(\"Last element on list A : \",A[-1])\n",
    "print('first to 4th element on list A : ',A[:5]) # the 5th is exclude\n",
    "print('last 3 element of list A :',A[-3:]) # access list elemen from the last element"
   ]
  },
  {
   "cell_type": "code",
   "execution_count": 137,
   "metadata": {},
   "outputs": [
    {
     "name": "stdout",
     "output_type": "stream",
     "text": [
      "[0, 1, 2, 3, 10, 5]\n"
     ]
    }
   ],
   "source": [
    "# Change list element value\n",
    "A[4] = 10\n",
    "print(A)"
   ]
  },
  {
   "cell_type": "code",
   "execution_count": 138,
   "metadata": {},
   "outputs": [
    {
     "name": "stdout",
     "output_type": "stream",
     "text": [
      "Indo\n",
      "a\n",
      "Indonesian\n"
     ]
    }
   ],
   "source": [
    "#String is a list of caracter\n",
    "D = \"Indonesia\"\n",
    "print(D[:4])\n",
    "print(D[-1])\n",
    "print(D+'n')\n",
    "\n",
    "# but not supported with some operation\n",
    "\n",
    "#D[-1] = 'A' string not support item assignment\n",
    "#D.append('n')"
   ]
  },
  {
   "cell_type": "code",
   "execution_count": 139,
   "metadata": {},
   "outputs": [
    {
     "name": "stdout",
     "output_type": "stream",
     "text": [
      "0\n",
      "1\n",
      "2\n",
      "3\n",
      "10\n",
      "5\n"
     ]
    }
   ],
   "source": [
    "# list is irateble object\n",
    "for item in A:\n",
    "    print(item)"
   ]
  },
  {
   "cell_type": "code",
   "execution_count": 140,
   "metadata": {},
   "outputs": [
    {
     "name": "stdout",
     "output_type": "stream",
     "text": [
      "6\n",
      "7\n",
      "[0, 1, 2, 3, 10, 5, 6]\n"
     ]
    }
   ],
   "source": [
    "print(len(A))\n",
    "A.append(6)\n",
    "print(len(A))\n",
    "print(A)"
   ]
  },
  {
   "cell_type": "code",
   "execution_count": 141,
   "metadata": {},
   "outputs": [
    {
     "name": "stdout",
     "output_type": "stream",
     "text": [
      "True\n",
      "False\n"
     ]
    }
   ],
   "source": [
    "# check is a number exist in a list or not\n",
    "print(5 in A)\n",
    "print(100 in A)"
   ]
  },
  {
   "cell_type": "markdown",
   "metadata": {},
   "source": [
    "## Date and Time"
   ]
  },
  {
   "cell_type": "code",
   "execution_count": 142,
   "metadata": {},
   "outputs": [
    {
     "name": "stdout",
     "output_type": "stream",
     "text": [
      "1589384410.7718127\n",
      "Wed May 13 22:40:10 2020\n",
      "Wed May 13 22:40:12 2020\n"
     ]
    }
   ],
   "source": [
    "# time module\n",
    "import time as tm\n",
    "\n",
    "print(tm.time())\n",
    "print(tm.ctime(tm.time()))\n",
    "tm.sleep(2) # delay 2s to execute next line\n",
    "print(tm.ctime(tm.time()))"
   ]
  },
  {
   "cell_type": "code",
   "execution_count": 143,
   "metadata": {},
   "outputs": [
    {
     "name": "stdout",
     "output_type": "stream",
     "text": [
      "2020\n",
      "5\n",
      "13\n",
      "22\n",
      "40\n",
      "12\n"
     ]
    }
   ],
   "source": [
    "now = tm.localtime()\n",
    "print(now.tm_year)\n",
    "print(now.tm_mon)\n",
    "print(now.tm_mday)\n",
    "print(now.tm_hour)\n",
    "print(now.tm_min)\n",
    "print(now.tm_sec)\n",
    "#print(now)"
   ]
  },
  {
   "cell_type": "code",
   "execution_count": 145,
   "metadata": {},
   "outputs": [
    {
     "name": "stdout",
     "output_type": "stream",
     "text": [
      "3\n"
     ]
    }
   ],
   "source": [
    "tic = tm.localtime().tm_sec\n",
    "tm.sleep(3)\n",
    "toc = tm.localtime().tm_sec\n",
    "\n",
    "print(int(toc) - int(tic))"
   ]
  },
  {
   "cell_type": "code",
   "execution_count": 146,
   "metadata": {},
   "outputs": [
    {
     "name": "stdout",
     "output_type": "stream",
     "text": [
      "2020-05-13 22:41:06.718281\n",
      "6\n",
      "41\n",
      "13\n",
      "5\n",
      "2020\n"
     ]
    }
   ],
   "source": [
    "# datetime modeule\n",
    "import datetime as dt\n",
    "now = dt.datetime.today()\n",
    "\n",
    "print(now)\n",
    "print(now.second)\n",
    "print(now.minute)\n",
    "print(now.day)\n",
    "print(now.month)\n",
    "print(now.year)"
   ]
  },
  {
   "cell_type": "code",
   "execution_count": 147,
   "metadata": {},
   "outputs": [
    {
     "name": "stdout",
     "output_type": "stream",
     "text": [
      "2020-05-13 22:41:09.674427\n",
      "2020-05-13 22:41:09.681036\n"
     ]
    }
   ],
   "source": [
    "print(dt.datetime.today())\n",
    "print(dt.datetime.fromtimestamp(tm.time()))"
   ]
  },
  {
   "cell_type": "code",
   "execution_count": null,
   "metadata": {},
   "outputs": [],
   "source": [
    "# counting time passed durring a procces\n",
    "\n",
    "a = dt.datetime.today()\n",
    "tm.sleep(5)\n",
    "b = dt.datetime.today()\n",
    "\n",
    "print(b-a)"
   ]
  },
  {
   "cell_type": "code",
   "execution_count": null,
   "metadata": {},
   "outputs": [],
   "source": []
  }
 ],
 "metadata": {
  "kernelspec": {
   "display_name": "Python 3",
   "language": "python",
   "name": "python3"
  },
  "language_info": {
   "codemirror_mode": {
    "name": "ipython",
    "version": 3
   },
   "file_extension": ".py",
   "mimetype": "text/x-python",
   "name": "python",
   "nbconvert_exporter": "python",
   "pygments_lexer": "ipython3",
   "version": "3.7.4"
  }
 },
 "nbformat": 4,
 "nbformat_minor": 4
}
